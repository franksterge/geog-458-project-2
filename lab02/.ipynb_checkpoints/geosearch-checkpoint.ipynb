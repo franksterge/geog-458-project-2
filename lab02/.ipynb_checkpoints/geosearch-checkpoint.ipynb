{
 "cells": [
  {
   "cell_type": "code",
   "execution_count": 8,
   "metadata": {},
   "outputs": [
    {
     "name": "stdout",
     "output_type": "stream",
     "text": [
      "\u001b[33mDEPRECATION: Python 2.7 reached the end of its life on January 1st, 2020. Please upgrade your Python as Python 2.7 is no longer maintained. A future version of pip will drop support for Python 2.7. More details about Python 2 support in pip, can be found at https://pip.pypa.io/en/latest/development/release-process/#python-2-support\u001b[0m\n",
      "Defaulting to user installation because normal site-packages is not writeable\n",
      "Requirement already satisfied: tweepy in /Users/Frank/Library/Python/2.7/lib/python/site-packages (3.8.0)\n",
      "Requirement already satisfied: requests>=2.11.1 in /Users/Frank/Library/Python/2.7/lib/python/site-packages (from tweepy) (2.23.0)\n",
      "Requirement already satisfied: requests-oauthlib>=0.7.0 in /Users/Frank/Library/Python/2.7/lib/python/site-packages (from tweepy) (1.3.0)\n",
      "Requirement already satisfied: six>=1.10.0 in /System/Library/Frameworks/Python.framework/Versions/2.7/Extras/lib/python (from tweepy) (1.12.0)\n",
      "Requirement already satisfied: PySocks>=1.5.7 in /Users/Frank/Library/Python/2.7/lib/python/site-packages (from tweepy) (1.7.1)\n",
      "Requirement already satisfied: urllib3!=1.25.0,!=1.25.1,<1.26,>=1.21.1 in /Users/Frank/Library/Python/2.7/lib/python/site-packages (from requests>=2.11.1->tweepy) (1.25.9)\n",
      "Requirement already satisfied: idna<3,>=2.5 in /Users/Frank/Library/Python/2.7/lib/python/site-packages (from requests>=2.11.1->tweepy) (2.9)\n",
      "Requirement already satisfied: chardet<4,>=3.0.2 in /Users/Frank/Library/Python/2.7/lib/python/site-packages (from requests>=2.11.1->tweepy) (3.0.4)\n",
      "Requirement already satisfied: certifi>=2017.4.17 in /Users/Frank/Library/Python/2.7/lib/python/site-packages (from requests>=2.11.1->tweepy) (2020.4.5.1)\n",
      "Requirement already satisfied: oauthlib>=3.0.0 in /Users/Frank/Library/Python/2.7/lib/python/site-packages (from requests-oauthlib>=0.7.0->tweepy) (3.1.0)\n"
     ]
    }
   ],
   "source": [
    "# created on Dec 24, 2020\n",
    "# @author:          Bo Zhao\n",
    "# @email:           zhaobo@uw.edu\n",
    "# @website:         https://hgis.uw.edu\n",
    "# @organization:    Department of Geography, University of Washington, Seattle\n",
    "# @description:     Search geo-tagged tweets within the U.S. This script is modified from https://github.com/shawn-terryah/Twitter_Geolocation\n",
    "\n",
    "!python -m pip install tweepy\n",
    "import tweepy, json, time"
   ]
  },
  {
   "cell_type": "code",
   "execution_count": 18,
   "metadata": {},
   "outputs": [
    {
     "name": "stdout",
     "output_type": "stream",
     "text": [
      "{'created_at': 'Wed Apr 22 17:38:56 +0000 2020', 'id': 1253015444312768514, 'id_str': '1253015444312768514', 'text': 'RT @zackwhittaker: Last year, hackers took just two days to hack into a critical F-15 fighter jet data system. It was proof that the Air Fo…', 'source': '<a href=\"https://about.twitter.com/products/tweetdeck\" rel=\"nofollow\">TweetDeck</a>', 'truncated': False, 'in_reply_to_status_id': None, 'in_reply_to_status_id_str': None, 'in_reply_to_user_id': None, 'in_reply_to_user_id_str': None, 'in_reply_to_screen_name': None, 'user': {'id': 17268735, 'id_str': '17268735', 'name': 'tap tap tap is this thing on?', 'screen_name': 'ShawnRausch', 'location': 'ÜT: 39.872886,-82.83067', 'url': 'http://www.linkedin.com/in/srausch', 'description': 'Dad to 6. Earned these grays. Networking since vampire taps. LTE, 5G, infosec. Staunchly #prolife. Words are my own.', 'translator_type': 'none', 'protected': False, 'verified': False, 'followers_count': 168, 'friends_count': 291, 'listed_count': 5, 'favourites_count': 79, 'statuses_count': 349, 'created_at': 'Sun Nov 09 14:17:32 +0000 2008', 'utc_offset': None, 'time_zone': None, 'geo_enabled': False, 'lang': None, 'contributors_enabled': False, 'is_translator': False, 'profile_background_color': 'C6E2EE', 'profile_background_image_url': 'http://abs.twimg.com/images/themes/theme4/bg.gif', 'profile_background_image_url_https': 'https://abs.twimg.com/images/themes/theme4/bg.gif', 'profile_background_tile': False, 'profile_link_color': '1F98C7', 'profile_sidebar_border_color': 'C6E2EE', 'profile_sidebar_fill_color': 'DAECF4', 'profile_text_color': '663B12', 'profile_use_background_image': True, 'profile_image_url': 'http://pbs.twimg.com/profile_images/2094222660/temp1334156836strip20120411-23581-1credzz_normal', 'profile_image_url_https': 'https://pbs.twimg.com/profile_images/2094222660/temp1334156836strip20120411-23581-1credzz_normal', 'default_profile': False, 'default_profile_image': False, 'following': None, 'follow_request_sent': None, 'notifications': None}, 'geo': None, 'coordinates': None, 'place': None, 'contributors': None, 'retweeted_status': {'created_at': 'Wed Apr 22 13:14:46 +0000 2020', 'id': 1252948966381142016, 'id_str': '1252948966381142016', 'text': 'Last year, hackers took just two days to hack into a critical F-15 fighter jet data system. It was proof that the A… https://t.co/pyaezomRyD', 'source': '<a href=\"https://about.twitter.com/products/tweetdeck\" rel=\"nofollow\">TweetDeck</a>', 'truncated': True, 'in_reply_to_status_id': None, 'in_reply_to_status_id_str': None, 'in_reply_to_user_id': None, 'in_reply_to_user_id_str': None, 'in_reply_to_screen_name': None, 'user': {'id': 15752235, 'id_str': '15752235', 'name': 'Zack Whittaker', 'screen_name': 'zackwhittaker', 'location': 'New York, NY', 'url': None, 'description': 'Security Editor, @TechCrunch \\n • Signal: +1.646.755.8849 \\n • zack.whittaker@techcrunch.com\\n • http://this.weekinsecurity.com', 'translator_type': 'regular', 'protected': False, 'verified': True, 'followers_count': 56318, 'friends_count': 993, 'listed_count': 1780, 'favourites_count': 59898, 'statuses_count': 563, 'created_at': 'Wed Aug 06 17:00:05 +0000 2008', 'utc_offset': None, 'time_zone': None, 'geo_enabled': True, 'lang': None, 'contributors_enabled': False, 'is_translator': False, 'profile_background_color': '131516', 'profile_background_image_url': 'http://abs.twimg.com/images/themes/theme14/bg.gif', 'profile_background_image_url_https': 'https://abs.twimg.com/images/themes/theme14/bg.gif', 'profile_background_tile': True, 'profile_link_color': '36345C', 'profile_sidebar_border_color': 'FFFFFF', 'profile_sidebar_fill_color': 'EFEFEF', 'profile_text_color': '333333', 'profile_use_background_image': True, 'profile_image_url': 'http://pbs.twimg.com/profile_images/1154519790955970560/ZqRU9yjp_normal.jpg', 'profile_image_url_https': 'https://pbs.twimg.com/profile_images/1154519790955970560/ZqRU9yjp_normal.jpg', 'profile_banner_url': 'https://pbs.twimg.com/profile_banners/15752235/1563152437', 'default_profile': False, 'default_profile_image': False, 'following': None, 'follow_request_sent': None, 'notifications': None}, 'geo': None, 'coordinates': None, 'place': None, 'contributors': None, 'is_quote_status': False, 'extended_tweet': {'full_text': 'Last year, hackers took just two days to hack into a critical F-15 fighter jet data system. It was proof that the Air Force desperately needed help.\\n\\nNow the Air Force is back with its next challenge: asking hackers to take on a satellite in orbit.\\n\\nhttps://t.co/Dt5WLiFASa', 'display_text_range': [0, 273], 'entities': {'hashtags': [], 'urls': [{'url': 'https://t.co/Dt5WLiFASa', 'expanded_url': 'https://tcrn.ch/3buO1UO', 'display_url': 'tcrn.ch/3buO1UO', 'indices': [250, 273]}], 'user_mentions': [], 'symbols': []}}, 'quote_count': 11, 'reply_count': 3, 'retweet_count': 50, 'favorite_count': 92, 'entities': {'hashtags': [], 'urls': [{'url': 'https://t.co/pyaezomRyD', 'expanded_url': 'https://twitter.com/i/web/status/1252948966381142016', 'display_url': 'twitter.com/i/web/status/1…', 'indices': [117, 140]}], 'user_mentions': [], 'symbols': []}, 'favorited': False, 'retweeted': False, 'possibly_sensitive': False, 'filter_level': 'low', 'lang': 'en'}, 'is_quote_status': False, 'quote_count': 0, 'reply_count': 0, 'retweet_count': 0, 'favorite_count': 0, 'entities': {'hashtags': [], 'urls': [], 'user_mentions': [{'screen_name': 'zackwhittaker', 'name': 'Zack Whittaker', 'id': 15752235, 'id_str': '15752235', 'indices': [3, 17]}], 'symbols': []}, 'favorited': False, 'retweeted': False, 'filter_level': 'low', 'lang': 'en', 'timestamp_ms': '1587577136482'} \n",
      "\n",
      "finished\n"
     ]
    },
    {
     "name": "stderr",
     "output_type": "stream",
     "text": [
      "Exception in thread Thread-6:\n",
      "Traceback (most recent call last):\n",
      "  File \"/usr/local/Cellar/python/3.7.1/Frameworks/Python.framework/Versions/3.7/lib/python3.7/threading.py\", line 917, in _bootstrap_inner\n",
      "    self.run()\n",
      "  File \"/usr/local/Cellar/python/3.7.1/Frameworks/Python.framework/Versions/3.7/lib/python3.7/threading.py\", line 865, in run\n",
      "    self._target(*self._args, **self._kwargs)\n",
      "  File \"/usr/local/lib/python3.7/site-packages/tweepy/streaming.py\", line 320, in _run\n",
      "    six.reraise(*exc_info)\n",
      "  File \"/usr/local/lib/python3.7/site-packages/six.py\", line 693, in reraise\n",
      "    raise value\n",
      "  File \"/usr/local/lib/python3.7/site-packages/tweepy/streaming.py\", line 289, in _run\n",
      "    self._read_loop(resp)\n",
      "  File \"/usr/local/lib/python3.7/site-packages/tweepy/streaming.py\", line 351, in _read_loop\n",
      "    self._data(next_status_obj)\n",
      "  File \"/usr/local/lib/python3.7/site-packages/tweepy/streaming.py\", line 323, in _data\n",
      "    if self.listener.on_data(data) is False:\n",
      "  File \"<ipython-input-12-1cf4fbc842b8>\", line 26, in on_data\n",
      "    bbox = datajson['place']['bounding_box']['coordinates'][0]\n",
      "TypeError: 'NoneType' object is not subscriptable\n",
      "\n"
     ]
    }
   ],
   "source": [
    "class StreamListener(tweepy.StreamListener):\n",
    "    \"\"\"\n",
    "    tweepy.StreamListener is a class provided by tweepy used to access\n",
    "    the Twitter Streaming API to collect tweets in real-time.\n",
    "    \"\"\"\n",
    "\n",
    "    def __init__(self, time_limit=60, file=\"\"):\n",
    "        \"\"\"class initialization\"\"\"\n",
    "        self.start_time = time.time()\n",
    "        self.limit = time_limit\n",
    "        self.f = open(file, 'a', encoding=\"utf-8\")\n",
    "        super(StreamListener, self).__init__()\n",
    "\n",
    "    def on_data(self, data):\n",
    "        \"\"\"This is called when data are streamed in.\"\"\"\n",
    "        if (time.time() - self.start_time) < self.limit:\n",
    "            datajson = json.loads(data)\n",
    "            print (datajson, \"\\n\")\n",
    "            id = datajson['id']\n",
    "            username = datajson['user']['screen_name']\n",
    "            created_at = datajson['created_at']\n",
    "            text = datajson['text'].strip().replace(\"\\n\", \"\")\n",
    "\n",
    "            # process the geo-tags\n",
    "            if datajson['coordinates'] == None:\n",
    "                bbox = datajson['place']['bounding_box']['coordinates'][0]\n",
    "                lng = (bbox[0][0] + bbox[2][0]) / 2.0\n",
    "                lat = (bbox[0][1] + bbox[1][1]) / 2.0\n",
    "            else:\n",
    "                lng = datajson['coordinates']['coordinates'][0]\n",
    "                lat = datajson['coordinates']['coordinates'][1]\n",
    "\n",
    "            record = '%d, %s, %s, %f, %f, %s \\n' % (id, username, created_at, lng, lat, text)\n",
    "            print (record)\n",
    "            self.f.write(record)\n",
    "        else:\n",
    "            self.f.close()\n",
    "            print (\"finished\")\n",
    "            return False"
   ]
  },
  {
   "cell_type": "code",
   "execution_count": 19,
   "metadata": {},
   "outputs": [
    {
     "name": "stdout",
     "output_type": "stream",
     "text": [
      "{'created_at': 'Wed Apr 22 17:38:56 +0000 2020', 'id': 1253015445445267461, 'id_str': '1253015445445267461', 'text': 'Sosyoloji salgın süreci ve sonrasında toplumun yaralarını anlamanın ve bu yaralara kalıcı çözümler bulmanın en doğr… https://t.co/ZRMwaRESUx', 'source': '<a href=\"http://twitter.com/download/iphone\" rel=\"nofollow\">Twitter for iPhone</a>', 'truncated': True, 'in_reply_to_status_id': None, 'in_reply_to_status_id_str': None, 'in_reply_to_user_id': None, 'in_reply_to_user_id_str': None, 'in_reply_to_screen_name': None, 'user': {'id': 747399044, 'id_str': '747399044', 'name': 'abdullah songur', 'screen_name': 'adsongur', 'location': None, 'url': None, 'description': None, 'translator_type': 'none', 'protected': False, 'verified': False, 'followers_count': 387, 'friends_count': 355, 'listed_count': 0, 'favourites_count': 6378, 'statuses_count': 1473, 'created_at': 'Thu Aug 09 15:15:45 +0000 2012', 'utc_offset': None, 'time_zone': None, 'geo_enabled': True, 'lang': None, 'contributors_enabled': False, 'is_translator': False, 'profile_background_color': 'C0DEED', 'profile_background_image_url': 'http://abs.twimg.com/images/themes/theme1/bg.png', 'profile_background_image_url_https': 'https://abs.twimg.com/images/themes/theme1/bg.png', 'profile_background_tile': False, 'profile_link_color': '1DA1F2', 'profile_sidebar_border_color': 'C0DEED', 'profile_sidebar_fill_color': 'DDEEF6', 'profile_text_color': '333333', 'profile_use_background_image': True, 'profile_image_url': 'http://pbs.twimg.com/profile_images/1239426583301181442/YMIO5jZx_normal.jpg', 'profile_image_url_https': 'https://pbs.twimg.com/profile_images/1239426583301181442/YMIO5jZx_normal.jpg', 'default_profile': True, 'default_profile_image': False, 'following': None, 'follow_request_sent': None, 'notifications': None}, 'geo': None, 'coordinates': None, 'place': None, 'contributors': None, 'is_quote_status': False, 'extended_tweet': {'full_text': 'Sosyoloji salgın süreci ve sonrasında toplumun yaralarını anlamanın ve bu yaralara kalıcı çözümler bulmanın en doğru yoludur. Bu işi de ehilleri olarak sosyologlar yapar. @ailevecalisma @ZehraZumrutS @RTErdogan @drfahrettinkoca @fahrettinaltun @edibesoze\\n\\n#PANDEMİDESOSYOLOGAKADRO', 'display_text_range': [0, 280], 'entities': {'hashtags': [{'text': 'PANDEMİDESOSYOLOGAKADRO', 'indices': [256, 280]}], 'urls': [], 'user_mentions': [{'screen_name': 'ailevecalisma', 'name': 'T.C. Aile, Çalışma ve Sosyal Hizmetler Bakanlığı', 'id': 847484052, 'id_str': '847484052', 'indices': [171, 185]}, {'screen_name': 'ZehraZumrutS', 'name': 'Zehra Zümrüt Selçuk', 'id': 1016593091480948736, 'id_str': '1016593091480948736', 'indices': [186, 199]}, {'screen_name': 'RTErdogan', 'name': 'Recep Tayyip Erdoğan', 'id': 68034431, 'id_str': '68034431', 'indices': [200, 210]}, {'screen_name': 'drfahrettinkoca', 'name': 'Dr. Fahrettin Koca', 'id': 1016198241417822208, 'id_str': '1016198241417822208', 'indices': [211, 227]}, {'screen_name': 'fahrettinaltun', 'name': 'Fahrettin Altun', 'id': 967087600426209281, 'id_str': '967087600426209281', 'indices': [228, 243]}], 'symbols': []}}, 'quote_count': 0, 'reply_count': 0, 'retweet_count': 0, 'favorite_count': 0, 'entities': {'hashtags': [], 'urls': [{'url': 'https://t.co/ZRMwaRESUx', 'expanded_url': 'https://twitter.com/i/web/status/1253015445445267461', 'display_url': 'twitter.com/i/web/status/1…', 'indices': [117, 140]}], 'user_mentions': [], 'symbols': []}, 'favorited': False, 'retweeted': False, 'filter_level': 'low', 'lang': 'tr', 'timestamp_ms': '1587577136752'} \n",
      "\n"
     ]
    },
    {
     "name": "stderr",
     "output_type": "stream",
     "text": [
      "Exception in thread Thread-5:\n",
      "Traceback (most recent call last):\n",
      "  File \"/usr/local/Cellar/python/3.7.1/Frameworks/Python.framework/Versions/3.7/lib/python3.7/threading.py\", line 917, in _bootstrap_inner\n",
      "    self.run()\n",
      "  File \"/usr/local/Cellar/python/3.7.1/Frameworks/Python.framework/Versions/3.7/lib/python3.7/threading.py\", line 865, in run\n",
      "    self._target(*self._args, **self._kwargs)\n",
      "  File \"/usr/local/lib/python3.7/site-packages/tweepy/streaming.py\", line 320, in _run\n",
      "    six.reraise(*exc_info)\n",
      "  File \"/usr/local/lib/python3.7/site-packages/six.py\", line 693, in reraise\n",
      "    raise value\n",
      "  File \"/usr/local/lib/python3.7/site-packages/tweepy/streaming.py\", line 289, in _run\n",
      "    self._read_loop(resp)\n",
      "  File \"/usr/local/lib/python3.7/site-packages/tweepy/streaming.py\", line 351, in _read_loop\n",
      "    self._data(next_status_obj)\n",
      "  File \"/usr/local/lib/python3.7/site-packages/tweepy/streaming.py\", line 323, in _data\n",
      "    if self.listener.on_data(data) is False:\n",
      "  File \"<ipython-input-12-1cf4fbc842b8>\", line 26, in on_data\n",
      "    bbox = datajson['place']['bounding_box']['coordinates'][0]\n",
      "TypeError: 'NoneType' object is not subscriptable\n",
      "\n"
     ]
    },
    {
     "name": "stdout",
     "output_type": "stream",
     "text": [
      "{'created_at': 'Wed Apr 22 17:38:57 +0000 2020', 'id': 1253015447206854658, 'id_str': '1253015447206854658', 'text': \"@KTrzeszczkowski @KoushBCH @im_uname @GeukensMathieu @marcoJcosta @imkeshav @deadalnix I'm not sure what I wouldn't… https://t.co/EpArjW8T7c\", 'display_text_range': [87, 140], 'source': '<a href=\"https://mobile.twitter.com\" rel=\"nofollow\">Twitter Web App</a>', 'truncated': True, 'in_reply_to_status_id': 1253015218772496385, 'in_reply_to_status_id_str': '1253015218772496385', 'in_reply_to_user_id': 1116426301106159617, 'in_reply_to_user_id_str': '1116426301106159617', 'in_reply_to_screen_name': 'KTrzeszczkowski', 'user': {'id': 6793252, 'id_str': '6793252', 'name': 'George Donnelly', 'screen_name': 'georgedonnelly', 'location': 'Medellín, Colombia', 'url': 'https://GeorgeDonnelly.works/', 'description': \"BizDev @Bitcoin_ABC. Mission: scale+adopt Bitcoin Cash for 5B DAU. Universal prosperity. Founder @BCHLatam @PanmoniApp. Sci-fi author. CNN says I'm intriguing.\", 'translator_type': 'none', 'protected': False, 'verified': False, 'followers_count': 6846, 'friends_count': 786, 'listed_count': 279, 'favourites_count': 19414, 'statuses_count': 29025, 'created_at': 'Wed Jun 13 15:58:51 +0000 2007', 'utc_offset': None, 'time_zone': None, 'geo_enabled': True, 'lang': None, 'contributors_enabled': False, 'is_translator': False, 'profile_background_color': '272D33', 'profile_background_image_url': 'http://abs.twimg.com/images/themes/theme14/bg.gif', 'profile_background_image_url_https': 'https://abs.twimg.com/images/themes/theme14/bg.gif', 'profile_background_tile': False, 'profile_link_color': '012060', 'profile_sidebar_border_color': 'FFFFFF', 'profile_sidebar_fill_color': '796183', 'profile_text_color': 'D8CFA4', 'profile_use_background_image': False, 'profile_image_url': 'http://pbs.twimg.com/profile_images/1054109264229347330/NNNowMi-_normal.jpg', 'profile_image_url_https': 'https://pbs.twimg.com/profile_images/1054109264229347330/NNNowMi-_normal.jpg', 'profile_banner_url': 'https://pbs.twimg.com/profile_banners/6793252/1575157711', 'default_profile': False, 'default_profile_image': False, 'following': None, 'follow_request_sent': None, 'notifications': None}, 'geo': None, 'coordinates': None, 'place': None, 'contributors': None, 'is_quote_status': False, 'extended_tweet': {'full_text': \"@KTrzeszczkowski @KoushBCH @im_uname @GeukensMathieu @marcoJcosta @imkeshav @deadalnix I'm not sure what I wouldn't do for a sexy Mongolian Drug Princess.\\n\\nOr two.\", 'display_text_range': [87, 163], 'entities': {'hashtags': [], 'urls': [], 'user_mentions': [{'screen_name': 'KTrzeszczkowski', 'name': 'Karol Trzeszczkowski', 'id': 1116426301106159617, 'id_str': '1116426301106159617', 'indices': [0, 16]}, {'screen_name': 'KoushBCH', 'name': 'Koush', 'id': 1172409681504980993, 'id_str': '1172409681504980993', 'indices': [17, 26]}, {'screen_name': 'im_uname', 'name': 'imaginary_username', 'id': 929037273143767040, 'id_str': '929037273143767040', 'indices': [27, 36]}, {'screen_name': 'GeukensMathieu', 'name': 'Mathieu Geukens', 'id': 994584667801169920, 'id_str': '994584667801169920', 'indices': [37, 52]}, {'screen_name': 'marcoJcosta', 'name': 'Marco', 'id': 1060545403249147905, 'id_str': '1060545403249147905', 'indices': [53, 65]}, {'screen_name': 'imkeshav', 'name': 'Keshav R Narla', 'id': 16401923, 'id_str': '16401923', 'indices': [66, 75]}, {'screen_name': 'deadalnix', 'name': 'deadalǹ͔͜͡i͎̜͖͗̎͞x̛̳̠̤̥̦̉̊̕̕', 'id': 112916339, 'id_str': '112916339', 'indices': [76, 86]}], 'symbols': []}}, 'quote_count': 0, 'reply_count': 0, 'retweet_count': 0, 'favorite_count': 0, 'entities': {'hashtags': [], 'urls': [{'url': 'https://t.co/EpArjW8T7c', 'expanded_url': 'https://twitter.com/i/web/status/1253015447206854658', 'display_url': 'twitter.com/i/web/status/1…', 'indices': [117, 140]}], 'user_mentions': [{'screen_name': 'KTrzeszczkowski', 'name': 'Karol Trzeszczkowski', 'id': 1116426301106159617, 'id_str': '1116426301106159617', 'indices': [0, 16]}, {'screen_name': 'KoushBCH', 'name': 'Koush', 'id': 1172409681504980993, 'id_str': '1172409681504980993', 'indices': [17, 26]}, {'screen_name': 'im_uname', 'name': 'imaginary_username', 'id': 929037273143767040, 'id_str': '929037273143767040', 'indices': [27, 36]}, {'screen_name': 'GeukensMathieu', 'name': 'Mathieu Geukens', 'id': 994584667801169920, 'id_str': '994584667801169920', 'indices': [37, 52]}, {'screen_name': 'marcoJcosta', 'name': 'Marco', 'id': 1060545403249147905, 'id_str': '1060545403249147905', 'indices': [53, 65]}, {'screen_name': 'imkeshav', 'name': 'Keshav R Narla', 'id': 16401923, 'id_str': '16401923', 'indices': [66, 75]}, {'screen_name': 'deadalnix', 'name': 'deadalǹ͔͜͡i͎̜͖͗̎͞x̛̳̠̤̥̦̉̊̕̕', 'id': 112916339, 'id_str': '112916339', 'indices': [76, 86]}], 'symbols': []}, 'favorited': False, 'retweeted': False, 'filter_level': 'low', 'lang': 'en', 'timestamp_ms': '1587577137172'} \n",
      "\n"
     ]
    },
    {
     "name": "stderr",
     "output_type": "stream",
     "text": [
      "Exception in thread Thread-8:\n",
      "Traceback (most recent call last):\n",
      "  File \"/usr/local/Cellar/python/3.7.1/Frameworks/Python.framework/Versions/3.7/lib/python3.7/threading.py\", line 917, in _bootstrap_inner\n",
      "    self.run()\n",
      "  File \"/usr/local/Cellar/python/3.7.1/Frameworks/Python.framework/Versions/3.7/lib/python3.7/threading.py\", line 865, in run\n",
      "    self._target(*self._args, **self._kwargs)\n",
      "  File \"/usr/local/lib/python3.7/site-packages/tweepy/streaming.py\", line 320, in _run\n",
      "    six.reraise(*exc_info)\n",
      "  File \"/usr/local/lib/python3.7/site-packages/six.py\", line 693, in reraise\n",
      "    raise value\n",
      "  File \"/usr/local/lib/python3.7/site-packages/tweepy/streaming.py\", line 289, in _run\n",
      "    self._read_loop(resp)\n",
      "  File \"/usr/local/lib/python3.7/site-packages/tweepy/streaming.py\", line 351, in _read_loop\n",
      "    self._data(next_status_obj)\n",
      "  File \"/usr/local/lib/python3.7/site-packages/tweepy/streaming.py\", line 323, in _data\n",
      "    if self.listener.on_data(data) is False:\n",
      "  File \"<ipython-input-18-1cf4fbc842b8>\", line 26, in on_data\n",
      "    bbox = datajson['place']['bounding_box']['coordinates'][0]\n",
      "TypeError: 'NoneType' object is not subscriptable\n",
      "\n"
     ]
    }
   ],
   "source": [
    "if __name__ == \"__main__\":\n",
    "    # These are provided to you through the Twitter API after you create a account\n",
    "    # register a Twitter App to get the keys and access tokens.\n",
    "    output_file = \"assets/tweets.csv\"\n",
    "\n",
    "    # Apply for your own Twitter API keys at https://developer.twitter.com/en/apply-for-access\n",
    "    consumer_key = \"NRa1XcJ7z6jaGc022a6IQHJQo\"\n",
    "    consumer_secret = \"0T5xOp5wywvI32feOcfGki8sxPtHApbhWjmMsp8r8NwV9BYjtf\"\n",
    "    access_token = \"731035579-CPZKHLEChsnSq142gYUERm8rRJt3dYO9pOMKlY0t\"\n",
    "    access_token_secret = \"me0PlLgVLpueAVazqU10C4CBIh45cecp5vgrJVPrd8XkC\"\n",
    "\n",
    "    myauth = tweepy.OAuthHandler(consumer_key, consumer_secret)\n",
    "    myauth.set_access_token(access_token, access_token_secret)\n",
    "\n",
    "    # LOCATIONS are the longitude, latitude coordinate corners for a box that restricts the\n",
    "    # geographic area from which you will stream tweets. The first two define the southwest\n",
    "    # corner of the box and the second two define the northeast corner of the box.\n",
    "    LOCATIONS = [-124.7771694, 24.520833, -66.947028, 49.384472,  # Contiguous US\n",
    "                 -164.639405, 58.806859, -144.152365, 71.76871,  # Alaska\n",
    "                 -160.161542, 18.776344, -154.641396, 22.878623]  # Hawaii\n",
    "\n",
    "    stream_listener = StreamListener(time_limit=90, file=output_file)\n",
    "    stream = tweepy.Stream(auth=myauth, listener=stream_listener)\n",
    "##    stream.filter(locations=LOCATIONS)\n",
    "    stream.filter(track=['monster hunter'], is_async=True)"
   ]
  },
  {
   "cell_type": "code",
   "execution_count": null,
   "metadata": {},
   "outputs": [],
   "source": []
  },
  {
   "cell_type": "code",
   "execution_count": null,
   "metadata": {},
   "outputs": [],
   "source": []
  },
  {
   "cell_type": "code",
   "execution_count": null,
   "metadata": {},
   "outputs": [],
   "source": []
  },
  {
   "cell_type": "code",
   "execution_count": null,
   "metadata": {},
   "outputs": [],
   "source": []
  },
  {
   "cell_type": "code",
   "execution_count": null,
   "metadata": {},
   "outputs": [],
   "source": []
  }
 ],
 "metadata": {
  "kernelspec": {
   "display_name": "Python 3",
   "language": "python",
   "name": "python3"
  },
  "language_info": {
   "codemirror_mode": {
    "name": "ipython",
    "version": 3
   },
   "file_extension": ".py",
   "mimetype": "text/x-python",
   "name": "python",
   "nbconvert_exporter": "python",
   "pygments_lexer": "ipython3",
   "version": "3.7.1"
  }
 },
 "nbformat": 4,
 "nbformat_minor": 2
}
